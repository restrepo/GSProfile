{
 "cells": [
  {
   "cell_type": "markdown",
   "metadata": {},
   "source": [
    "### Publications Instituto de Física 2020/02/12\n",
    "Obtained from [Google Scholar Profile](https://scholar.google.com/citations?sortby=pubdate&hl=en&user=mxSOjTYAAAAJ&view_op=list_works) by using:\n",
    "\n",
    "[GSProfile.ipynb](./GSProfile)"
   ]
  },
  {
   "cell_type": "code",
   "execution_count": 1,
   "metadata": {},
   "outputs": [],
   "source": [
    "import pandas as pd"
   ]
  },
  {
   "cell_type": "code",
   "execution_count": 2,
   "metadata": {},
   "outputs": [],
   "source": [
    "GS=pd.read_json('GS.json')"
   ]
  },
  {
   "cell_type": "code",
   "execution_count": 4,
   "metadata": {},
   "outputs": [
    {
     "data": {
      "text/plain": [
       "(1935, 10)"
      ]
     },
     "execution_count": 4,
     "metadata": {},
     "output_type": "execute_result"
    }
   ],
   "source": [
    "GS.shape"
   ]
  },
  {
   "cell_type": "code",
   "execution_count": 5,
   "metadata": {},
   "outputs": [
    {
     "data": {
      "text/plain": [
       "24028"
      ]
     },
     "execution_count": 5,
     "metadata": {},
     "output_type": "execute_result"
    }
   ],
   "source": [
    "GS.Cites.sum()"
   ]
  },
  {
   "cell_type": "code",
   "execution_count": 3,
   "metadata": {},
   "outputs": [
    {
     "data": {
      "text/html": [
       "<div>\n",
       "<style scoped>\n",
       "    .dataframe tbody tr th:only-of-type {\n",
       "        vertical-align: middle;\n",
       "    }\n",
       "\n",
       "    .dataframe tbody tr th {\n",
       "        vertical-align: top;\n",
       "    }\n",
       "\n",
       "    .dataframe thead th {\n",
       "        text-align: right;\n",
       "    }\n",
       "</style>\n",
       "<table border=\"1\" class=\"dataframe\">\n",
       "  <thead>\n",
       "    <tr style=\"text-align: right;\">\n",
       "      <th></th>\n",
       "      <th>Authors</th>\n",
       "      <th>Cites</th>\n",
       "      <th>Number</th>\n",
       "      <th>Pages</th>\n",
       "      <th>Publication</th>\n",
       "      <th>Publisher</th>\n",
       "      <th>Reference</th>\n",
       "      <th>Title</th>\n",
       "      <th>Volume</th>\n",
       "      <th>Year</th>\n",
       "    </tr>\n",
       "  </thead>\n",
       "  <tbody>\n",
       "    <tr>\n",
       "      <th>0</th>\n",
       "      <td>Samia, A; Feddi, E; Duque, CA; Mora-Ramos, ME;...</td>\n",
       "      <td>0</td>\n",
       "      <td>None</td>\n",
       "      <td>109278</td>\n",
       "      <td>Computational Materials Science</td>\n",
       "      <td>Elsevier</td>\n",
       "      <td>Optoelectronic properties of phosphorene quant...</td>\n",
       "      <td>Optoelectronic properties of phosphorene quant...</td>\n",
       "      <td>171.0</td>\n",
       "      <td>2020.0</td>\n",
       "    </tr>\n",
       "    <tr>\n",
       "      <th>1</th>\n",
       "      <td>Calle, Julián; Restrepo, Diego; Zapata, Óscar;</td>\n",
       "      <td>1</td>\n",
       "      <td>3</td>\n",
       "      <td>35004</td>\n",
       "      <td>Physical Review D</td>\n",
       "      <td>American Physical Society</td>\n",
       "      <td>Dirac neutrino mass generation from a Majorana...</td>\n",
       "      <td>Dirac neutrino mass generation from a Majorana...</td>\n",
       "      <td>101.0</td>\n",
       "      <td>2020.0</td>\n",
       "    </tr>\n",
       "  </tbody>\n",
       "</table>\n",
       "</div>"
      ],
      "text/plain": [
       "                                             Authors  Cites Number   Pages  \\\n",
       "0  Samia, A; Feddi, E; Duque, CA; Mora-Ramos, ME;...      0   None  109278   \n",
       "1    Calle, Julián; Restrepo, Diego; Zapata, Óscar;       1      3   35004   \n",
       "\n",
       "                       Publication                  Publisher  \\\n",
       "0  Computational Materials Science                   Elsevier   \n",
       "1                Physical Review D  American Physical Society   \n",
       "\n",
       "                                           Reference  \\\n",
       "0  Optoelectronic properties of phosphorene quant...   \n",
       "1  Dirac neutrino mass generation from a Majorana...   \n",
       "\n",
       "                                               Title  Volume    Year  \n",
       "0  Optoelectronic properties of phosphorene quant...   171.0  2020.0  \n",
       "1  Dirac neutrino mass generation from a Majorana...   101.0  2020.0  "
      ]
     },
     "execution_count": 3,
     "metadata": {},
     "output_type": "execute_result"
    }
   ],
   "source": [
    "GS[:2]"
   ]
  }
 ],
 "metadata": {
  "kernelspec": {
   "display_name": "Python 3",
   "language": "python",
   "name": "python3"
  },
  "language_info": {
   "codemirror_mode": {
    "name": "ipython",
    "version": 3
   },
   "file_extension": ".py",
   "mimetype": "text/x-python",
   "name": "python",
   "nbconvert_exporter": "python",
   "pygments_lexer": "ipython3",
   "version": "3.5.3"
  },
  "latex_envs": {
   "LaTeX_envs_menu_present": true,
   "autoclose": false,
   "autocomplete": true,
   "bibliofile": "biblio.bib",
   "cite_by": "apalike",
   "current_citInitial": 1,
   "eqLabelWithNumbers": true,
   "eqNumInitial": 1,
   "hotkeys": {
    "equation": "Ctrl-E",
    "itemize": "Ctrl-I"
   },
   "labels_anchors": false,
   "latex_user_defs": false,
   "report_style_numbering": false,
   "user_envs_cfg": false
  }
 },
 "nbformat": 4,
 "nbformat_minor": 2
}
