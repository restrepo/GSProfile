{
  "nbformat": 4,
  "nbformat_minor": 0,
  "metadata": {
    "kernelspec": {
      "display_name": "Python 3",
      "language": "python",
      "name": "python3"
    },
    "language_info": {
      "codemirror_mode": {
        "name": "ipython",
        "version": 3
      },
      "file_extension": ".py",
      "mimetype": "text/x-python",
      "name": "python",
      "nbconvert_exporter": "python",
      "pygments_lexer": "ipython3",
      "version": "3.5.3"
    },
    "latex_envs": {
      "LaTeX_envs_menu_present": true,
      "autoclose": false,
      "autocomplete": true,
      "bibliofile": "biblio.bib",
      "cite_by": "apalike",
      "current_citInitial": 1,
      "eqLabelWithNumbers": true,
      "eqNumInitial": 1,
      "hotkeys": {
        "equation": "Ctrl-E",
        "itemize": "Ctrl-I"
      },
      "labels_anchors": false,
      "latex_user_defs": false,
      "report_style_numbering": false,
      "user_envs_cfg": false
    },
    "colab": {
      "name": "Google_Scholar_Profile_Instituto_de_Fisica_UdeA.ipynb",
      "provenance": [],
      "include_colab_link": true
    }
  },
  "cells": [
    {
      "cell_type": "markdown",
      "metadata": {
        "id": "view-in-github",
        "colab_type": "text"
      },
      "source": [
        "<a href=\"https://colab.research.google.com/github/restrepo/GSProfile/blob/master/Google_Scholar_Profile_Instituto_de_Fisica_UdeA.ipynb\" target=\"_parent\"><img src=\"https://colab.research.google.com/assets/colab-badge.svg\" alt=\"Open In Colab\"/></a>"
      ]
    },
    {
      "cell_type": "markdown",
      "metadata": {
        "id": "yvpuOSGMBoJ1",
        "colab_type": "text"
      },
      "source": [
        "### Publications Instituto de Física 2020/02/12\n",
        "Obtained from [Google Scholar Profile](https://scholar.google.com/citations?sortby=pubdate&hl=en&user=mxSOjTYAAAAJ&view_op=list_works) by using:\n",
        "\n",
        "[GSProfile.ipynb](https://colab.research.google.com/github/restrepo/GSProfile/blob/master/GSProfile.ipynb)"
      ]
    },
    {
      "cell_type": "code",
      "metadata": {
        "id": "ayvEOCfRBoJ3",
        "colab_type": "code",
        "colab": {}
      },
      "source": [
        "import pandas as pd"
      ],
      "execution_count": 0,
      "outputs": []
    },
    {
      "cell_type": "code",
      "metadata": {
        "id": "Ne7WvTrzBoJ6",
        "colab_type": "code",
        "colab": {}
      },
      "source": [
        "GS=pd.read_json('https://raw.githubusercontent.com/restrepo/GSProfile/master/GS.json')"
      ],
      "execution_count": 0,
      "outputs": []
    },
    {
      "cell_type": "markdown",
      "metadata": {
        "id": "HMaHSujqEgPz",
        "colab_type": "text"
      },
      "source": [
        "Total articles:"
      ]
    },
    {
      "cell_type": "code",
      "metadata": {
        "id": "ekB8gCljBoJ9",
        "colab_type": "code",
        "colab": {
          "base_uri": "https://localhost:8080/",
          "height": 35
        },
        "outputId": "d5767ac2-7b0c-400d-9085-707820cc04fd"
      },
      "source": [
        "GS.shape"
      ],
      "execution_count": 7,
      "outputs": [
        {
          "output_type": "execute_result",
          "data": {
            "text/plain": [
              "(1935, 10)"
            ]
          },
          "metadata": {
            "tags": []
          },
          "execution_count": 7
        }
      ]
    },
    {
      "cell_type": "markdown",
      "metadata": {
        "id": "gGHLghcdEjyI",
        "colab_type": "text"
      },
      "source": [
        "Total recoverd citations"
      ]
    },
    {
      "cell_type": "code",
      "metadata": {
        "id": "jc4_TTekBoKA",
        "colab_type": "code",
        "colab": {
          "base_uri": "https://localhost:8080/",
          "height": 35
        },
        "outputId": "63a70c09-6f76-41b3-ee44-9b8f258e8b71"
      },
      "source": [
        "GS.Cites.sum()"
      ],
      "execution_count": 8,
      "outputs": [
        {
          "output_type": "execute_result",
          "data": {
            "text/plain": [
              "24028"
            ]
          },
          "metadata": {
            "tags": []
          },
          "execution_count": 8
        }
      ]
    },
    {
      "cell_type": "markdown",
      "metadata": {
        "id": "Tsll6FuFEs8p",
        "colab_type": "text"
      },
      "source": [
        "Small sample"
      ]
    },
    {
      "cell_type": "code",
      "metadata": {
        "id": "vtyO6Lp8BoKC",
        "colab_type": "code",
        "colab": {
          "base_uri": "https://localhost:8080/",
          "height": 143
        },
        "outputId": "54ffb8bd-b045-48f3-b060-158367110ed8"
      },
      "source": [
        "GS[:2]"
      ],
      "execution_count": 6,
      "outputs": [
        {
          "output_type": "execute_result",
          "data": {
            "text/html": [
              "<div>\n",
              "<style scoped>\n",
              "    .dataframe tbody tr th:only-of-type {\n",
              "        vertical-align: middle;\n",
              "    }\n",
              "\n",
              "    .dataframe tbody tr th {\n",
              "        vertical-align: top;\n",
              "    }\n",
              "\n",
              "    .dataframe thead th {\n",
              "        text-align: right;\n",
              "    }\n",
              "</style>\n",
              "<table border=\"1\" class=\"dataframe\">\n",
              "  <thead>\n",
              "    <tr style=\"text-align: right;\">\n",
              "      <th></th>\n",
              "      <th>Authors</th>\n",
              "      <th>Title</th>\n",
              "      <th>Publication</th>\n",
              "      <th>Volume</th>\n",
              "      <th>Number</th>\n",
              "      <th>Pages</th>\n",
              "      <th>Year</th>\n",
              "      <th>Publisher</th>\n",
              "      <th>Reference</th>\n",
              "      <th>Cites</th>\n",
              "    </tr>\n",
              "  </thead>\n",
              "  <tbody>\n",
              "    <tr>\n",
              "      <th>0</th>\n",
              "      <td>Samia, A; Feddi, E; Duque, CA; Mora-Ramos, ME;...</td>\n",
              "      <td>Optoelectronic properties of phosphorene quant...</td>\n",
              "      <td>Computational Materials Science</td>\n",
              "      <td>171.0</td>\n",
              "      <td>None</td>\n",
              "      <td>109278</td>\n",
              "      <td>2020.0</td>\n",
              "      <td>Elsevier</td>\n",
              "      <td>Optoelectronic properties of phosphorene quant...</td>\n",
              "      <td>0</td>\n",
              "    </tr>\n",
              "    <tr>\n",
              "      <th>1</th>\n",
              "      <td>Calle, Julián; Restrepo, Diego; Zapata, Óscar;</td>\n",
              "      <td>Dirac neutrino mass generation from a Majorana...</td>\n",
              "      <td>Physical Review D</td>\n",
              "      <td>101.0</td>\n",
              "      <td>3</td>\n",
              "      <td>35004</td>\n",
              "      <td>2020.0</td>\n",
              "      <td>American Physical Society</td>\n",
              "      <td>Dirac neutrino mass generation from a Majorana...</td>\n",
              "      <td>1</td>\n",
              "    </tr>\n",
              "  </tbody>\n",
              "</table>\n",
              "</div>"
            ],
            "text/plain": [
              "                                             Authors  ... Cites\n",
              "0  Samia, A; Feddi, E; Duque, CA; Mora-Ramos, ME;...  ...     0\n",
              "1    Calle, Julián; Restrepo, Diego; Zapata, Óscar;   ...     1\n",
              "\n",
              "[2 rows x 10 columns]"
            ]
          },
          "metadata": {
            "tags": []
          },
          "execution_count": 6
        }
      ]
    },
    {
      "cell_type": "code",
      "metadata": {
        "id": "EAT-JcTkB4IL",
        "colab_type": "code",
        "colab": {}
      },
      "source": [
        ""
      ],
      "execution_count": 0,
      "outputs": []
    }
  ]
}