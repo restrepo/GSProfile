{
  "nbformat": 4,
  "nbformat_minor": 0,
  "metadata": {
    "kernelspec": {
      "display_name": "Python 3",
      "language": "python",
      "name": "python3"
    },
    "language_info": {
      "codemirror_mode": {
        "name": "ipython",
        "version": 3
      },
      "file_extension": ".py",
      "mimetype": "text/x-python",
      "name": "python",
      "nbconvert_exporter": "python",
      "pygments_lexer": "ipython3",
      "version": "3.5.3"
    },
    "latex_envs": {
      "LaTeX_envs_menu_present": true,
      "autoclose": false,
      "autocomplete": true,
      "bibliofile": "biblio.bib",
      "cite_by": "apalike",
      "current_citInitial": 1,
      "eqLabelWithNumbers": true,
      "eqNumInitial": 1,
      "hotkeys": {
        "equation": "Ctrl-E",
        "itemize": "Ctrl-I"
      },
      "labels_anchors": false,
      "latex_user_defs": false,
      "report_style_numbering": false,
      "user_envs_cfg": false
    },
    "colab": {
      "name": "GSProfile.ipynb",
      "provenance": [],
      "include_colab_link": true
    }
  },
  "cells": [
    {
      "cell_type": "markdown",
      "metadata": {
        "id": "view-in-github",
        "colab_type": "text"
      },
      "source": [
        "<a href=\"https://colab.research.google.com/github/restrepo/GSProfile/blob/master/GSProfile.ipynb\" target=\"_parent\"><img src=\"https://colab.research.google.com/assets/colab-badge.svg\" alt=\"Open In Colab\"/></a>"
      ]
    },
    {
      "cell_type": "markdown",
      "metadata": {
        "id": "eVBXw0ImCXSa",
        "colab_type": "text"
      },
      "source": [
        "# Google Scholar Profile"
      ]
    },
    {
      "cell_type": "code",
      "metadata": {
        "id": "0_b3ajv9CXSc",
        "colab_type": "code",
        "colab": {}
      },
      "source": [
        "import pandas as pd\n",
        "import time\n",
        "pd.set_option('display.max_colwidth',200)"
      ],
      "execution_count": 0,
      "outputs": []
    },
    {
      "cell_type": "markdown",
      "metadata": {
        "id": "DNJG4NmKCXSf",
        "colab_type": "text"
      },
      "source": [
        "## Methodology\n",
        "By using the  Proper credentials in the [Google Scholar Profile](https://scholar.google.com/citations?sortby=pubdate&hl=en&us)\n",
        "* Export the data into a CSV file. \n",
        "* Copy and paste the web version of the publication list into a spreadsheet\n",
        "\n",
        "The two resulting files are to be loaded below from Google Drive by usiing the `File → Publish to the web` menú into CSV of Google spreadsheets"
      ]
    },
    {
      "cell_type": "code",
      "metadata": {
        "id": "Cp90d342CXSg",
        "colab_type": "code",
        "colab": {}
      },
      "source": [
        "import re\n",
        "import unidecode"
      ],
      "execution_count": 0,
      "outputs": []
    },
    {
      "cell_type": "code",
      "metadata": {
        "id": "pdqj1UtDCXSm",
        "colab_type": "code",
        "colab": {}
      },
      "source": [
        "sp='https://docs.google.com/spreadsheets/d/e'\n",
        "gs_id='2PACX-1vQ8oE7rkkqQ07WzSEq8qCciqwJu8lOx8cnH0YTn2e6HDL3DJHYF2KahjkuVv6wVSMJEPeJLfBLxRRub'\n",
        "cp_id='2PACX-1vRKmxmnaxySZ7OMUNbH-BpaGB1RILM55CMfJtlJUd6XUwnrEAzUh5YkzQI7R8_fl-kRHSBpGKfXwC4O'\n",
        "gs=pd.read_csv('{}/{}/pub?output=csv'.format(sp,gs_id)).reset_index(drop=True)\n",
        "time.sleep(1)\n",
        "cp=pd.read_csv('{}/{}/pub?output=csv'.format(sp,cp_id)).reset_index(drop=True)"
      ],
      "execution_count": 0,
      "outputs": []
    },
    {
      "cell_type": "markdown",
      "metadata": {
        "id": "bitMhl1ECXSo",
        "colab_type": "text"
      },
      "source": [
        "Normalize data"
      ]
    },
    {
      "cell_type": "code",
      "metadata": {
        "id": "vbDiVbS7CXSp",
        "colab_type": "code",
        "colab": {}
      },
      "source": [
        "gs['TitleU']=gs['Title'].apply(lambda s: unidecode.unidecode(s) if s else s)\n",
        "cp['Reference']=cp['Reference'].apply(lambda s: unidecode.unidecode(s) if s else s)"
      ],
      "execution_count": 0,
      "outputs": []
    },
    {
      "cell_type": "code",
      "metadata": {
        "id": "MFpdJbL-CXSs",
        "colab_type": "code",
        "colab": {}
      },
      "source": [
        "author='[A-Z]{1,3}\\s[A-Z][a-z\\-]+'\n",
        "AUTHOR='[A-Z]{1,3}\\s[A-Z\\-]+'\n",
        "cp['TitleU']=cp['Reference'].apply(lambda s: re.sub(\n",
        "    '([a-z0-9…\\?\\.\\'\\\"\\]\\)])%s,{0,1}' %author,r'\\1::' ,s,re.UNICODE)).str.split('::').str[0]\n",
        "#Special cases\n",
        "#...\n",
        "#cp['TitleU']=cp['TitleU'].apply(lambda s: re.sub(\n",
        "#                  '(\\.\\.\\.)%s,{0,1}' %author,r'\\1::' ,s,re.UNICODE)\n",
        "#                   if re.search('\\.\\.\\.%s[,\\n]' %author,s,re.UNICODE) else s\n",
        "#                  ).str.split('::').str[0]\n",
        "#Full upper-case letter: NOT POSSIBLE TO DISCRIMINATE FINAL 1 or two \\w\n",
        "cp['TitleU']=cp['TitleU'].apply(lambda s: re.sub('(\\w+)[A-Z]\\s[A-Z][a-z\\-]+',r'\\1::',s,re.UNICODE) \n",
        "                  if re.search('\\s%s[,\\n]' %author,s,re.UNICODE) else s\n",
        "                 ).str.split('::').str[0]\n",
        "# Upper case last name, only if end in , or \\n\n",
        "cp['TitleU']=cp['TitleU'].apply(lambda s: re.sub('(\\w+)[A-Z]\\s[A-Z][A-Z\\-]+',r'\\1::',s,re.UNICODE) \n",
        "                  if re.search('[\\s\\w]%s[,\\n]' %AUTHOR,s,re.UNICODE) else s\n",
        "                 ).str.split('::').str[0]\n",
        "# Separated by space\n",
        "cp['TitleU']=cp['TitleU'].apply(lambda s: re.sub(\n",
        "                '(\\w)\\s%s,{0,1}' %author,r'\\1::' ,s,re.UNICODE      )                \n",
        "                   if re.search('\\s%s[,\\n]' %author,s,re.UNICODE) else s\n",
        "                  ).str.split('::').str[0]\n",
        "#Long authors: L de la Torre\n",
        "longauthor='[A-Z]{1,3}(\\s[a-z]+)+\\s[A-Z][a-z\\-]+'\n",
        "cp['TitleU']=cp['TitleU'].apply(lambda s: re.sub(\n",
        "            '([a-z0-9…\\?\\.\\'\\\"\\]\\)])%s,{0,1}' %longauthor,r'\\1::' ,s,re.UNICODE)\n",
        "                   if re.search('%s[,\\n]' %longauthor,s,re.UNICODE) else s\n",
        "                  ).str.split('::').str[0]\n",
        "\n",
        "\n",
        "\n",
        "#cp['TitleU']=cp['Reference'].apply(lambda s: re.sub(\n",
        "#    '(\\.\\.\\.)[A-Z]+\\s[A-Z][a-z\\-]+,{0,1}',r'\\1::',s,re.UNICODE)).str.split('::').str[0]\n",
        "#Title in Caps\n",
        "#Totle end with space\n",
        "#Fix obvious problems\n",
        "cp['TitleU']=cp['TitleU'].str.replace('([0-9\\s][TGM]e)$',r'\\1V')"
      ],
      "execution_count": 0,
      "outputs": []
    },
    {
      "cell_type": "markdown",
      "metadata": {
        "id": "nsvf7T0_CXSv",
        "colab_type": "text"
      },
      "source": [
        "### Prepare merge"
      ]
    },
    {
      "cell_type": "code",
      "metadata": {
        "id": "GYjRTXXICXSw",
        "colab_type": "code",
        "colab": {},
        "outputId": "533b415e-8683-42c6-b197-8b1c49f6a934"
      },
      "source": [
        "gs=gs.drop_duplicates('TitleU').reset_index(drop=True)\n",
        "gs.shape"
      ],
      "execution_count": 0,
      "outputs": [
        {
          "output_type": "execute_result",
          "data": {
            "text/plain": [
              "(1935, 9)"
            ]
          },
          "metadata": {
            "tags": []
          },
          "execution_count": 574
        }
      ]
    },
    {
      "cell_type": "code",
      "metadata": {
        "id": "P-Iv_IT2CXS0",
        "colab_type": "code",
        "colab": {}
      },
      "source": [
        "GS=gs.merge(cp.drop('Year',axis='columns'),on='TitleU',how='left')"
      ],
      "execution_count": 0,
      "outputs": []
    },
    {
      "cell_type": "code",
      "metadata": {
        "id": "FzfTiASgCXS2",
        "colab_type": "code",
        "colab": {},
        "outputId": "e4866918-ef3b-4407-f70f-f10ccfc90bc0"
      },
      "source": [
        "GS=GS.drop_duplicates('TitleU').reset_index(drop=True)\n",
        "GS.shape"
      ],
      "execution_count": 0,
      "outputs": [
        {
          "output_type": "execute_result",
          "data": {
            "text/plain": [
              "(1935, 11)"
            ]
          },
          "metadata": {
            "tags": []
          },
          "execution_count": 630
        }
      ]
    },
    {
      "cell_type": "code",
      "metadata": {
        "id": "6bUmRoHbCXS8",
        "colab_type": "code",
        "colab": {},
        "outputId": "6c8b0464-915a-4789-dc34-9b0c44f98462"
      },
      "source": [
        "GS[~GS.Reference.isna()].shape"
      ],
      "execution_count": 0,
      "outputs": [
        {
          "output_type": "execute_result",
          "data": {
            "text/plain": [
              "(1640, 11)"
            ]
          },
          "metadata": {
            "tags": []
          },
          "execution_count": 631
        }
      ]
    },
    {
      "cell_type": "markdown",
      "metadata": {
        "id": "43V9pgljCXS-",
        "colab_type": "text"
      },
      "source": [
        "TODO: Make a similarity search for each of the GF.TitleU  `NaN`\n",
        "with the list of cp.TitleU"
      ]
    },
    {
      "cell_type": "code",
      "metadata": {
        "id": "g2lKPv4qCXS_",
        "colab_type": "code",
        "colab": {}
      },
      "source": [
        "GS['Cites']=GS['Cites'].apply(lambda s: int(s.replace('*','')) if isinstance(s,str) else 0)"
      ],
      "execution_count": 0,
      "outputs": []
    },
    {
      "cell_type": "code",
      "metadata": {
        "id": "yRYEkfIvCXTB",
        "colab_type": "code",
        "colab": {},
        "outputId": "d8b2aa42-f13a-48f7-a6a7-6e79de97e5a4"
      },
      "source": [
        "GS[:2]"
      ],
      "execution_count": 0,
      "outputs": [
        {
          "output_type": "execute_result",
          "data": {
            "text/html": [
              "<div>\n",
              "<style scoped>\n",
              "    .dataframe tbody tr th:only-of-type {\n",
              "        vertical-align: middle;\n",
              "    }\n",
              "\n",
              "    .dataframe tbody tr th {\n",
              "        vertical-align: top;\n",
              "    }\n",
              "\n",
              "    .dataframe thead th {\n",
              "        text-align: right;\n",
              "    }\n",
              "</style>\n",
              "<table border=\"1\" class=\"dataframe\">\n",
              "  <thead>\n",
              "    <tr style=\"text-align: right;\">\n",
              "      <th></th>\n",
              "      <th>Authors</th>\n",
              "      <th>Title</th>\n",
              "      <th>Publication</th>\n",
              "      <th>Volume</th>\n",
              "      <th>Number</th>\n",
              "      <th>Pages</th>\n",
              "      <th>Year</th>\n",
              "      <th>Publisher</th>\n",
              "      <th>TitleU</th>\n",
              "      <th>Reference</th>\n",
              "      <th>Cites</th>\n",
              "    </tr>\n",
              "  </thead>\n",
              "  <tbody>\n",
              "    <tr>\n",
              "      <th>0</th>\n",
              "      <td>Samia, A; Feddi, E; Duque, CA; Mora-Ramos, ME; Akimov, V; Correa, JD;</td>\n",
              "      <td>Optoelectronic properties of phosphorene quantum dots functionalized with free base porphyrins</td>\n",
              "      <td>Computational Materials Science</td>\n",
              "      <td>171.0</td>\n",
              "      <td>NaN</td>\n",
              "      <td>109278</td>\n",
              "      <td>2020.0</td>\n",
              "      <td>Elsevier</td>\n",
              "      <td>Optoelectronic properties of phosphorene quantum dots functionalized with free base porphyrins</td>\n",
              "      <td>Optoelectronic properties of phosphorene quantum dots functionalized with free base porphyrinsA Samia, E Feddi, CA Duque, ME Mora-Ramos, V Akimov, JD Correa\\nComputational Materials Science 171, 1...</td>\n",
              "      <td>0</td>\n",
              "    </tr>\n",
              "    <tr>\n",
              "      <th>1</th>\n",
              "      <td>Calle, Julián; Restrepo, Diego; Zapata, Óscar;</td>\n",
              "      <td>Dirac neutrino mass generation from a Majorana messenger</td>\n",
              "      <td>Physical Review D</td>\n",
              "      <td>101.0</td>\n",
              "      <td>3</td>\n",
              "      <td>35004</td>\n",
              "      <td>2020.0</td>\n",
              "      <td>American Physical Society</td>\n",
              "      <td>Dirac neutrino mass generation from a Majorana messenger</td>\n",
              "      <td>Dirac neutrino mass generation from a Majorana messengerJ Calle, D Restrepo, O Zapata\\nPhysical Review D 101 (3), 035004</td>\n",
              "      <td>1</td>\n",
              "    </tr>\n",
              "  </tbody>\n",
              "</table>\n",
              "</div>"
            ],
            "text/plain": [
              "                                                                  Authors  \\\n",
              "0  Samia, A; Feddi, E; Duque, CA; Mora-Ramos, ME; Akimov, V; Correa, JD;    \n",
              "1                         Calle, Julián; Restrepo, Diego; Zapata, Óscar;    \n",
              "\n",
              "                                                                                            Title  \\\n",
              "0  Optoelectronic properties of phosphorene quantum dots functionalized with free base porphyrins   \n",
              "1                                        Dirac neutrino mass generation from a Majorana messenger   \n",
              "\n",
              "                       Publication  Volume Number   Pages    Year  \\\n",
              "0  Computational Materials Science   171.0    NaN  109278  2020.0   \n",
              "1                Physical Review D   101.0      3   35004  2020.0   \n",
              "\n",
              "                   Publisher  \\\n",
              "0                   Elsevier   \n",
              "1  American Physical Society   \n",
              "\n",
              "                                                                                           TitleU  \\\n",
              "0  Optoelectronic properties of phosphorene quantum dots functionalized with free base porphyrins   \n",
              "1                                        Dirac neutrino mass generation from a Majorana messenger   \n",
              "\n",
              "                                                                                                                                                                                                 Reference  \\\n",
              "0  Optoelectronic properties of phosphorene quantum dots functionalized with free base porphyrinsA Samia, E Feddi, CA Duque, ME Mora-Ramos, V Akimov, JD Correa\\nComputational Materials Science 171, 1...   \n",
              "1                                                                                 Dirac neutrino mass generation from a Majorana messengerJ Calle, D Restrepo, O Zapata\\nPhysical Review D 101 (3), 035004   \n",
              "\n",
              "   Cites  \n",
              "0      0  \n",
              "1      1  "
            ]
          },
          "metadata": {
            "tags": []
          },
          "execution_count": 633
        }
      ]
    },
    {
      "cell_type": "code",
      "metadata": {
        "id": "Ci5f3t0VCXTD",
        "colab_type": "code",
        "colab": {}
      },
      "source": [
        "GS.to_json('GS.json')"
      ],
      "execution_count": 0,
      "outputs": []
    },
    {
      "cell_type": "markdown",
      "metadata": {
        "id": "LviIx2HdCXTG",
        "colab_type": "text"
      },
      "source": [
        "### Search for similar Titles\n",
        "For failed merge entries (with `Reference` `NaN`), search for a similar `TitleU` on `cp`"
      ]
    },
    {
      "cell_type": "code",
      "metadata": {
        "id": "21eWLwKuCXTG",
        "colab_type": "code",
        "colab": {}
      },
      "source": [
        "from fuzzywuzzy import process"
      ],
      "execution_count": 0,
      "outputs": []
    },
    {
      "cell_type": "code",
      "metadata": {
        "id": "Dvt27SpJCXTJ",
        "colab_type": "code",
        "colab": {},
        "outputId": "2cbf6f4f-b8aa-4d58-c961-8dad34266268"
      },
      "source": [
        "GS[GS.Reference.isna()].reset_index(drop=True).shape"
      ],
      "execution_count": 0,
      "outputs": [
        {
          "output_type": "execute_result",
          "data": {
            "text/plain": [
              "(295, 11)"
            ]
          },
          "metadata": {
            "tags": []
          },
          "execution_count": 636
        }
      ]
    },
    {
      "cell_type": "code",
      "metadata": {
        "id": "Ga3-tuTlCXTM",
        "colab_type": "code",
        "colab": {}
      },
      "source": [
        "def extractOne(row,df=cp,rmin=90):\n",
        "    \n",
        "    cites=0\n",
        "    try:\n",
        "        kk=process.extractOne(row['TitleU'],cp['TitleU'])\n",
        "    except:\n",
        "        kk=['',0,0]\n",
        "    #print('**',kk,kk[2])\n",
        "    if kk[1]>rmin:\n",
        "        cites=cp.loc[kk[2],'Cites']\n",
        "        #Be sure cites is not string\n",
        "        if isinstance(cites,str):\n",
        "            cites=cites.replace('*','')\n",
        "            try:\n",
        "                cites=float(cites)\n",
        "            except:\n",
        "                print('WARNING: weird cites {} at {} of df'.format(cites,kk[2]))\n",
        "                cites=0\n",
        "        #nan>0 → False\n",
        "        if cites>0:\n",
        "             cites=cites\n",
        "        else:\n",
        "            cites=0\n",
        "    #cites either int or 0\n",
        "    return int(cites)"
      ],
      "execution_count": 0,
      "outputs": []
    },
    {
      "cell_type": "markdown",
      "metadata": {
        "id": "GVRTBuS0CXTO",
        "colab_type": "text"
      },
      "source": [
        "WARNING: similarity search is rather slow..."
      ]
    },
    {
      "cell_type": "code",
      "metadata": {
        "id": "QXydM3P8CXTP",
        "colab_type": "code",
        "colab": {}
      },
      "source": [
        "#kk=GS[GS.Reference.isna()].reset_index(drop=True)\n",
        "#nan is a float \n",
        "GS['New_Cites']=GS.apply(lambda row: extractOne(row,cp) \n",
        "              if isinstance(row['Reference'],float) \n",
        "              else row['Cites'],axis=1 \n",
        "             )"
      ],
      "execution_count": 0,
      "outputs": []
    },
    {
      "cell_type": "code",
      "metadata": {
        "id": "JRCebvSUCXTS",
        "colab_type": "code",
        "colab": {},
        "outputId": "b872ad3b-f44f-4d43-be61-f47975fcf1db"
      },
      "source": [
        "GS.shape"
      ],
      "execution_count": 0,
      "outputs": [
        {
          "output_type": "execute_result",
          "data": {
            "text/plain": [
              "(1935, 12)"
            ]
          },
          "metadata": {
            "tags": []
          },
          "execution_count": 639
        }
      ]
    },
    {
      "cell_type": "markdown",
      "metadata": {
        "id": "A7FdYhGdCXTV",
        "colab_type": "text"
      },
      "source": [
        "Test only NaN References changed"
      ]
    },
    {
      "cell_type": "code",
      "metadata": {
        "id": "WR-sVU7XCXTV",
        "colab_type": "code",
        "colab": {}
      },
      "source": [
        "import sys\n",
        "if GS[GS['New_Cites']!=GS['Cites'] ].shape[0]==GS[np.logical_and( \n",
        "      GS['New_Cites']!=GS['Cites'],\n",
        "              GS['Reference'].isna()) ].shape[0]:\n",
        "    GS['Cites']=GS['New_Cites']\n",
        "    GS=GS.drop(['New_Cites','TitleU'],axis='columns')\n",
        "else:\n",
        "    sys.exit('ERROR in similarity search!')"
      ],
      "execution_count": 0,
      "outputs": []
    },
    {
      "cell_type": "markdown",
      "metadata": {
        "id": "WDZr8TklCXTZ",
        "colab_type": "text"
      },
      "source": [
        "Save to JSON"
      ]
    },
    {
      "cell_type": "code",
      "metadata": {
        "id": "TiZv8C_CCXTa",
        "colab_type": "code",
        "colab": {}
      },
      "source": [
        "GS.to_json('GS.json')"
      ],
      "execution_count": 0,
      "outputs": []
    },
    {
      "cell_type": "code",
      "metadata": {
        "id": "amNt1tWQCXTc",
        "colab_type": "code",
        "colab": {}
      },
      "source": [
        "new_cites=GS.Cites.sum()\n",
        "total_cites=cp.Cites.apply(lambda s: s.replace('*','') if isinstance(s,str) else s\n",
        "              ).astype(float\n",
        "        ).apply(lambda f: 0 if pd.np.isnan(f) else f).sum()"
      ],
      "execution_count": 0,
      "outputs": []
    },
    {
      "cell_type": "code",
      "metadata": {
        "id": "uJYMqnRlCXTe",
        "colab_type": "code",
        "colab": {},
        "outputId": "abbe5f39-2710-4c8b-f02a-3188fc3faf6c"
      },
      "source": [
        "print('{} recovered cites from TOTAL: {}'.format(new_cites,int(total_cites)))"
      ],
      "execution_count": 0,
      "outputs": [
        {
          "output_type": "stream",
          "text": [
            "24028 recovered cites from TOTAL: 24282\n"
          ],
          "name": "stdout"
        }
      ]
    },
    {
      "cell_type": "code",
      "metadata": {
        "id": "lJZASH48CXTg",
        "colab_type": "code",
        "colab": {},
        "outputId": "cb6456c5-5fe3-4b64-fd7f-c2cce6e6f64f"
      },
      "source": [
        "GS[:2]"
      ],
      "execution_count": 0,
      "outputs": [
        {
          "output_type": "execute_result",
          "data": {
            "text/html": [
              "<div>\n",
              "<style scoped>\n",
              "    .dataframe tbody tr th:only-of-type {\n",
              "        vertical-align: middle;\n",
              "    }\n",
              "\n",
              "    .dataframe tbody tr th {\n",
              "        vertical-align: top;\n",
              "    }\n",
              "\n",
              "    .dataframe thead th {\n",
              "        text-align: right;\n",
              "    }\n",
              "</style>\n",
              "<table border=\"1\" class=\"dataframe\">\n",
              "  <thead>\n",
              "    <tr style=\"text-align: right;\">\n",
              "      <th></th>\n",
              "      <th>Authors</th>\n",
              "      <th>Title</th>\n",
              "      <th>Publication</th>\n",
              "      <th>Volume</th>\n",
              "      <th>Number</th>\n",
              "      <th>Pages</th>\n",
              "      <th>Year</th>\n",
              "      <th>Publisher</th>\n",
              "      <th>Reference</th>\n",
              "      <th>Cites</th>\n",
              "    </tr>\n",
              "  </thead>\n",
              "  <tbody>\n",
              "    <tr>\n",
              "      <th>0</th>\n",
              "      <td>Samia, A; Feddi, E; Duque, CA; Mora-Ramos, ME; Akimov, V; Correa, JD;</td>\n",
              "      <td>Optoelectronic properties of phosphorene quantum dots functionalized with free base porphyrins</td>\n",
              "      <td>Computational Materials Science</td>\n",
              "      <td>171.0</td>\n",
              "      <td>NaN</td>\n",
              "      <td>109278</td>\n",
              "      <td>2020.0</td>\n",
              "      <td>Elsevier</td>\n",
              "      <td>Optoelectronic properties of phosphorene quantum dots functionalized with free base porphyrinsA Samia, E Feddi, CA Duque, ME Mora-Ramos, V Akimov, JD Correa\\nComputational Materials Science 171, 1...</td>\n",
              "      <td>0</td>\n",
              "    </tr>\n",
              "    <tr>\n",
              "      <th>1</th>\n",
              "      <td>Calle, Julián; Restrepo, Diego; Zapata, Óscar;</td>\n",
              "      <td>Dirac neutrino mass generation from a Majorana messenger</td>\n",
              "      <td>Physical Review D</td>\n",
              "      <td>101.0</td>\n",
              "      <td>3</td>\n",
              "      <td>35004</td>\n",
              "      <td>2020.0</td>\n",
              "      <td>American Physical Society</td>\n",
              "      <td>Dirac neutrino mass generation from a Majorana messengerJ Calle, D Restrepo, O Zapata\\nPhysical Review D 101 (3), 035004</td>\n",
              "      <td>1</td>\n",
              "    </tr>\n",
              "  </tbody>\n",
              "</table>\n",
              "</div>"
            ],
            "text/plain": [
              "                                                                  Authors  \\\n",
              "0  Samia, A; Feddi, E; Duque, CA; Mora-Ramos, ME; Akimov, V; Correa, JD;    \n",
              "1                         Calle, Julián; Restrepo, Diego; Zapata, Óscar;    \n",
              "\n",
              "                                                                                            Title  \\\n",
              "0  Optoelectronic properties of phosphorene quantum dots functionalized with free base porphyrins   \n",
              "1                                        Dirac neutrino mass generation from a Majorana messenger   \n",
              "\n",
              "                       Publication  Volume Number   Pages    Year  \\\n",
              "0  Computational Materials Science   171.0    NaN  109278  2020.0   \n",
              "1                Physical Review D   101.0      3   35004  2020.0   \n",
              "\n",
              "                   Publisher  \\\n",
              "0                   Elsevier   \n",
              "1  American Physical Society   \n",
              "\n",
              "                                                                                                                                                                                                 Reference  \\\n",
              "0  Optoelectronic properties of phosphorene quantum dots functionalized with free base porphyrinsA Samia, E Feddi, CA Duque, ME Mora-Ramos, V Akimov, JD Correa\\nComputational Materials Science 171, 1...   \n",
              "1                                                                                 Dirac neutrino mass generation from a Majorana messengerJ Calle, D Restrepo, O Zapata\\nPhysical Review D 101 (3), 035004   \n",
              "\n",
              "   Cites  \n",
              "0      0  \n",
              "1      1  "
            ]
          },
          "metadata": {
            "tags": []
          },
          "execution_count": 656
        }
      ]
    },
    {
      "cell_type": "markdown",
      "metadata": {
        "id": "ionmXlvsCXTj",
        "colab_type": "text"
      },
      "source": [
        "# Make analysis"
      ]
    },
    {
      "cell_type": "code",
      "metadata": {
        "id": "qiaPjizYCXTj",
        "colab_type": "code",
        "colab": {}
      },
      "source": [
        "GS=pd.read_json('GS.json').reset_index(drop=True)"
      ],
      "execution_count": 0,
      "outputs": []
    },
    {
      "cell_type": "markdown",
      "metadata": {
        "id": "4-Aq1ddMCXTm",
        "colab_type": "text"
      },
      "source": [
        "### Articles per Year:\n",
        "Articles/Citations for:"
      ]
    },
    {
      "cell_type": "code",
      "metadata": {
        "id": "6kYj1dEzCXTn",
        "colab_type": "code",
        "colab": {},
        "outputId": "c152ccb1-f2e2-45ee-a7fe-63bc00d4753b"
      },
      "source": [
        "for Y in [2020,2019,2018,2017,2016,2015,2014,2013,2012,2010,2009,2008,2007,2006,2005,2004,2003,2002,2001,2000]:\n",
        "    print('{}: {}/{}'.format(Y,GS[GS.Year==Y].shape[0],GS[GS.Year==Y]['Cites'].sum()) )"
      ],
      "execution_count": 0,
      "outputs": [
        {
          "output_type": "stream",
          "text": [
            "2020: 20/1\n",
            "2019: 121/184\n",
            "2018: 97/336\n",
            "2017: 95/732\n",
            "2016: 95/896\n",
            "2015: 109/1139\n",
            "2014: 97/3177\n",
            "2013: 105/1909\n",
            "2012: 95/1232\n",
            "2010: 89/1670\n",
            "2009: 121/1532\n",
            "2008: 83/1713\n",
            "2007: 73/1001\n",
            "2006: 96/1812\n",
            "2005: 71/642\n",
            "2004: 55/483\n",
            "2003: 66/604\n",
            "2002: 42/567\n",
            "2001: 42/489\n",
            "2000: 44/700\n"
          ],
          "name": "stdout"
        }
      ]
    },
    {
      "cell_type": "code",
      "metadata": {
        "id": "ErqTlskJCXTp",
        "colab_type": "code",
        "colab": {}
      },
      "source": [
        ""
      ],
      "execution_count": 0,
      "outputs": []
    }
  ]
}